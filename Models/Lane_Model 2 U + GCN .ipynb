{
 "cells": [
  {
   "cell_type": "code",
   "execution_count": 1,
   "metadata": {},
   "outputs": [
    {
     "name": "stdout",
     "output_type": "stream",
     "text": [
      "Found GPU at: /device:GPU:0\n"
     ]
    }
   ],
   "source": [
    "import tensorflow as tf\n",
    "device_name = tf.test.gpu_device_name()\n",
    "if device_name != '/device:GPU:0':\n",
    "    raise SystemError('GPU device not found')\n",
    "print('Found GPU at: {}'.format(device_name))"
   ]
  },
  {
   "cell_type": "code",
   "execution_count": 2,
   "metadata": {},
   "outputs": [
    {
     "name": "stdout",
     "output_type": "stream",
     "text": [
      "C:\\Users\n"
     ]
    }
   ],
   "source": [
    "cd .."
   ]
  },
  {
   "cell_type": "code",
   "execution_count": 3,
   "metadata": {},
   "outputs": [
    {
     "name": "stdout",
     "output_type": "stream",
     "text": [
      "C:\\\n"
     ]
    }
   ],
   "source": [
    "cd .."
   ]
  },
  {
   "cell_type": "code",
   "execution_count": 4,
   "metadata": {},
   "outputs": [
    {
     "name": "stdout",
     "output_type": "stream",
     "text": [
      "C:\\Penn State\\Projects\\Lane Detection\\Dataset\n"
     ]
    }
   ],
   "source": [
    "cd Penn State\\Projects\\Lane Detection\\Dataset"
   ]
  },
  {
   "cell_type": "code",
   "execution_count": 5,
   "metadata": {},
   "outputs": [
    {
     "data": {
      "text/plain": [
       "'C:\\\\Penn State\\\\Projects\\\\Lane Detection\\\\Dataset'"
      ]
     },
     "execution_count": 5,
     "metadata": {},
     "output_type": "execute_result"
    }
   ],
   "source": [
    "import os\n",
    "os.getcwd()"
   ]
  },
  {
   "cell_type": "code",
   "execution_count": 6,
   "metadata": {},
   "outputs": [
    {
     "name": "stderr",
     "output_type": "stream",
     "text": [
      "Using TensorFlow backend.\n"
     ]
    }
   ],
   "source": [
    "import pandas as pd\n",
    "import numpy as np\n",
    "import keras\n",
    "import h5py\n",
    "import matplotlib.pyplot as plt\n",
    "import cv2\n",
    "from sklearn.model_selection import train_test_split\n",
    "import matplotlib.pyplot as plt\n",
    "import itertools\n",
    "from keras.preprocessing import image\n",
    "from keras.layers.core import Dropout, Lambda\n",
    "from keras.preprocessing.image import ImageDataGenerator\n",
    "from keras.models import Sequential, Model\n",
    "from keras.layers import Input, Conv2D, MaxPooling2D, Conv2DTranspose, Add, Flatten, UpSampling2D, BatchNormalization\n",
    "from keras.layers import Dense, Activation, Flatten, Dropout, concatenate, Input\n",
    "from keras.optimizers import Adam, Adadelta\n",
    "from keras.callbacks import EarlyStopping, ModelCheckpoint\n",
    "from keras.layers.advanced_activations import LeakyReLU\n",
    "#from keras.layers.convolutional import Deconvolution2D"
   ]
  },
  {
   "cell_type": "code",
   "execution_count": 7,
   "metadata": {},
   "outputs": [
    {
     "name": "stdout",
     "output_type": "stream",
     "text": [
      "0  images are done\n",
      "999  images are done\n",
      "1998  images are done\n",
      "2997  images are done\n",
      "Wall time: 46.9 s\n"
     ]
    }
   ],
   "source": [
    "%%time\n",
    "\n",
    "train = []\n",
    "\n",
    "for file in os.listdir(os.path.join(os.getcwd(), 'RGB_data')):\n",
    "    train.append([os.path.join(os.getcwd(), 'RGB_data', file),\n",
    "                     os.path.join(os.getcwd(), 'Segmented_data', file)])\n",
    "train = pd.DataFrame(train, columns=['Camera_Image', 'Segmented_Images'])\n",
    "\n",
    "Augmented_data = []\n",
    "\n",
    "for file in os.listdir(os.path.join(os.getcwd(), 'Augmented_RGB')):\n",
    "    Augmented_data.append([os.path.join(os.getcwd(), 'Augmented_RGB', file),\n",
    "                     os.path.join(os.getcwd(), 'Augmented_Seg', file)])\n",
    "    \n",
    "Augmented_data = pd.DataFrame(Augmented_data, columns=['Camera_Image', 'Segmented_Images'])\n",
    "\n",
    "Train_data = [train, Augmented_data]\n",
    "Train_data = pd.concat(Train_data)\n",
    "\n",
    "RGB = []\n",
    "Segmented= []\n",
    "\n",
    "for i in range(len(Train_data)):\n",
    "    img = cv2.imread(Train_data.iloc[i][0])\n",
    "    img = cv2.cvtColor(img,cv2.COLOR_BGR2RGB)\n",
    "    RGB.append(img)\n",
    "    img = cv2.imread(Train_data.iloc[i][1])\n",
    "    img = cv2.cvtColor(img,cv2.COLOR_BGR2RGB)\n",
    "    Segmented.append(img)\n",
    "    if i%999 == 0:\n",
    "        print(i,\" images are done\")\n",
    "    if i==3000:\n",
    "        break\n",
    "RGB = np.array(RGB) #Camera RGB data\n",
    "Segmented = np.array(Segmented) #Segmented data"
   ]
  },
  {
   "cell_type": "code",
   "execution_count": 8,
   "metadata": {},
   "outputs": [],
   "source": [
    "del train\n",
    "del Augmented_data\n",
    "del Train_data"
   ]
  },
  {
   "cell_type": "code",
   "execution_count": 9,
   "metadata": {},
   "outputs": [
    {
     "data": {
      "text/plain": [
       "<matplotlib.image.AxesImage at 0x19e012e49b0>"
      ]
     },
     "execution_count": 9,
     "metadata": {},
     "output_type": "execute_result"
    },
    {
     "data": {
      "image/png": "[encoded data removed]",
      "text/plain": [
       "<Figure size 432x288 with 1 Axes>"
      ]
     },
     "metadata": {
      "needs_background": "light"
     },
     "output_type": "display_data"
    }
   ],
   "source": [
    "plt.imshow(Segmented[634])"
   ]
  },
  {
   "cell_type": "code",
   "execution_count": 10,
   "metadata": {},
   "outputs": [
    {
     "data": {
      "text/plain": [
       "<matplotlib.image.AxesImage at 0x19e012218d0>"
      ]
     },
     "execution_count": 10,
     "metadata": {},
     "output_type": "execute_result"
    },
    {
     "data": {
      "image/png": "[encoded data removed]",
      "text/plain": [
       "<Figure size 432x288 with 1 Axes>"
      ]
     },
     "metadata": {
      "needs_background": "light"
     },
     "output_type": "display_data"
    }
   ],
   "source": [
    "plt.imshow(RGB[634])"
   ]
  },
  {
   "cell_type": "code",
   "execution_count": 11,
   "metadata": {},
   "outputs": [
    {
     "name": "stdout",
     "output_type": "stream",
     "text": [
      "Shape of RGB:  (3001, 360, 800, 3)   Shape of Segmented:  (3001, 360, 800, 3)\n"
     ]
    }
   ],
   "source": [
    "print('Shape of RGB: ', RGB.shape, '  Shape of Segmented: ', Segmented.shape)"
   ]
  },
  {
   "cell_type": "code",
   "execution_count": 12,
   "metadata": {},
   "outputs": [],
   "source": [
    "\"\"\"smooth = 1.0\n",
    "def dice_coef(y_true, y_pred):\n",
    "    y_true_f = K.flatten(y_true)\n",
    "    y_pred_f = K.flatten(y_pred)\n",
    "    intersection = K.sum(y_true_f * y_pred_f)\n",
    "    return (2. * intersection + smooth) / (K.sum(y_true_f) + K.sum(y_pred_f) + smooth)\n",
    "\n",
    "def dice_coef_loss(y_true, y_pred):\n",
    "    return -dice_coef(y_true, y_pred)\"\"\""
   ]
  },
  {
   "cell_type": "code",
   "execution_count": 13,
   "metadata": {},
   "outputs": [
    {
     "name": "stdout",
     "output_type": "stream",
     "text": [
      "Wall time: 0 ns\n"
     ]
    }
   ],
   "source": [
    "%%time\n",
    "#RGB, RGB_val, Segmented, Segmented_val = train_test_split(RGB, Segmented, test_size = 0.2, shuffle = True, random_state=125)"
   ]
  },
  {
   "cell_type": "code",
   "execution_count": 14,
   "metadata": {},
   "outputs": [],
   "source": [
    "#print(\"Training images:{}\".format(RGB.shape[0]), \"    Validation images:{}\".format(RGB_val.shape[0]))"
   ]
  },
  {
   "cell_type": "code",
   "execution_count": 15,
   "metadata": {},
   "outputs": [],
   "source": [
    "#from keras.applications.resnet50 import ResNet50"
   ]
  },
  {
   "cell_type": "code",
   "execution_count": 16,
   "metadata": {},
   "outputs": [],
   "source": [
    "#res  = ResNet50(include_top=False, weights=None, input_shape=(360, 800, 3))"
   ]
  },
  {
   "cell_type": "code",
   "execution_count": 17,
   "metadata": {},
   "outputs": [],
   "source": [
    "#res.summary()"
   ]
  },
  {
   "cell_type": "code",
   "execution_count": 18,
   "metadata": {},
   "outputs": [],
   "source": [
    "image_input=Input(shape=(360, 800, 3))"
   ]
  },
  {
   "cell_type": "code",
   "execution_count": 19,
   "metadata": {},
   "outputs": [
    {
     "name": "stdout",
     "output_type": "stream",
     "text": [
      "__________________________________________________________________________________________________\n",
      "Layer (type)                    Output Shape         Param #     Connected to                     \n",
      "==================================================================================================\n",
      "input_2 (InputLayer)            (None, 360, 800, 3)  0                                            \n",
      "__________________________________________________________________________________________________\n",
      "conv2d_1 (Conv2D)               (None, 360, 800, 4)  112         input_2[0][0]                    \n",
      "__________________________________________________________________________________________________\n",
      "batch_normalization_1 (BatchNor (None, 360, 800, 4)  16          conv2d_1[0][0]                   \n",
      "__________________________________________________________________________________________________\n",
      "leaky_re_lu_1 (LeakyReLU)       (None, 360, 800, 4)  0           batch_normalization_1[0][0]      \n",
      "__________________________________________________________________________________________________\n",
      "conv2d_2 (Conv2D)               (None, 360, 800, 10) 370         leaky_re_lu_1[0][0]              \n",
      "__________________________________________________________________________________________________\n",
      "max_pooling2d_1 (MaxPooling2D)  (None, 180, 400, 10) 0           conv2d_2[0][0]                   \n",
      "__________________________________________________________________________________________________\n",
      "conv2d_3 (Conv2D)               (None, 180, 400, 8)  728         max_pooling2d_1[0][0]            \n",
      "__________________________________________________________________________________________________\n",
      "batch_normalization_2 (BatchNor (None, 180, 400, 8)  32          conv2d_3[0][0]                   \n",
      "__________________________________________________________________________________________________\n",
      "leaky_re_lu_2 (LeakyReLU)       (None, 180, 400, 8)  0           batch_normalization_2[0][0]      \n",
      "__________________________________________________________________________________________________\n",
      "conv2d_4 (Conv2D)               (None, 180, 400, 15) 1095        leaky_re_lu_2[0][0]              \n",
      "__________________________________________________________________________________________________\n",
      "max_pooling2d_2 (MaxPooling2D)  (None, 90, 200, 15)  0           conv2d_4[0][0]                   \n",
      "__________________________________________________________________________________________________\n",
      "conv2d_5 (Conv2D)               (None, 90, 200, 16)  2176        max_pooling2d_2[0][0]            \n",
      "__________________________________________________________________________________________________\n",
      "batch_normalization_3 (BatchNor (None, 90, 200, 16)  64          conv2d_5[0][0]                   \n",
      "__________________________________________________________________________________________________\n",
      "leaky_re_lu_3 (LeakyReLU)       (None, 90, 200, 16)  0           batch_normalization_3[0][0]      \n",
      "__________________________________________________________________________________________________\n",
      "conv2d_6 (Conv2D)               (None, 90, 200, 20)  2900        leaky_re_lu_3[0][0]              \n",
      "__________________________________________________________________________________________________\n",
      "max_pooling2d_3 (MaxPooling2D)  (None, 45, 100, 20)  0           conv2d_6[0][0]                   \n",
      "__________________________________________________________________________________________________\n",
      "conv2d_7 (Conv2D)               (None, 45, 100, 32)  5792        max_pooling2d_3[0][0]            \n",
      "__________________________________________________________________________________________________\n",
      "batch_normalization_4 (BatchNor (None, 45, 100, 32)  128         conv2d_7[0][0]                   \n",
      "__________________________________________________________________________________________________\n",
      "leaky_re_lu_4 (LeakyReLU)       (None, 45, 100, 32)  0           batch_normalization_4[0][0]      \n",
      "__________________________________________________________________________________________________\n",
      "conv2d_8 (Conv2D)               (None, 45, 100, 30)  8670        leaky_re_lu_4[0][0]              \n",
      "__________________________________________________________________________________________________\n",
      "max_pooling2d_4 (MaxPooling2D)  (None, 22, 50, 30)   0           conv2d_8[0][0]                   \n",
      "__________________________________________________________________________________________________\n",
      "conv2d_9 (Conv2D)               (None, 22, 50, 40)   10840       max_pooling2d_4[0][0]            \n",
      "__________________________________________________________________________________________________\n",
      "batch_normalization_5 (BatchNor (None, 22, 50, 40)   160         conv2d_9[0][0]                   \n",
      "__________________________________________________________________________________________________\n",
      "leaky_re_lu_5 (LeakyReLU)       (None, 22, 50, 40)   0           batch_normalization_5[0][0]      \n",
      "__________________________________________________________________________________________________\n",
      "conv2d_10 (Conv2D)              (None, 22, 50, 50)   18050       leaky_re_lu_5[0][0]              \n",
      "__________________________________________________________________________________________________\n",
      "conv2d_11 (Conv2D)              (None, 22, 50, 30)   4530        conv2d_10[0][0]                  \n",
      "__________________________________________________________________________________________________\n",
      "conv2d_13 (Conv2D)              (None, 22, 50, 30)   4530        conv2d_10[0][0]                  \n",
      "__________________________________________________________________________________________________\n",
      "conv2d_12 (Conv2D)              (None, 22, 50, 30)   2730        conv2d_11[0][0]                  \n",
      "__________________________________________________________________________________________________\n",
      "conv2d_14 (Conv2D)              (None, 22, 50, 30)   2730        conv2d_13[0][0]                  \n",
      "__________________________________________________________________________________________________\n",
      "add_1 (Add)                     (None, 22, 50, 30)   0           conv2d_12[0][0]                  \n",
      "                                                                 conv2d_14[0][0]                  \n",
      "__________________________________________________________________________________________________\n",
      "conv2d_15 (Conv2D)              (None, 22, 50, 30)   2730        add_1[0][0]                      \n",
      "__________________________________________________________________________________________________\n",
      "batch_normalization_6 (BatchNor (None, 22, 50, 30)   120         conv2d_15[0][0]                  \n",
      "__________________________________________________________________________________________________\n",
      "leaky_re_lu_6 (LeakyReLU)       (None, 22, 50, 30)   0           batch_normalization_6[0][0]      \n",
      "__________________________________________________________________________________________________\n",
      "conv2d_16 (Conv2D)              (None, 22, 50, 30)   2730        leaky_re_lu_6[0][0]              \n",
      "__________________________________________________________________________________________________\n",
      "add_2 (Add)                     (None, 22, 50, 30)   0           conv2d_16[0][0]                  \n",
      "                                                                 add_1[0][0]                      \n",
      "__________________________________________________________________________________________________\n",
      "batch_normalization_7 (BatchNor (None, 22, 50, 30)   120         add_2[0][0]                      \n",
      "__________________________________________________________________________________________________\n",
      "leaky_re_lu_7 (LeakyReLU)       (None, 22, 50, 30)   0           batch_normalization_7[0][0]      \n",
      "__________________________________________________________________________________________________\n",
      "add_3 (Add)                     (None, 22, 50, 30)   0           leaky_re_lu_7[0][0]              \n",
      "                                                                 max_pooling2d_4[0][0]            \n",
      "__________________________________________________________________________________________________\n",
      "conv2d_17 (Conv2D)              (None, 22, 50, 25)   2275        add_3[0][0]                      \n",
      "__________________________________________________________________________________________________\n",
      "conv2d_19 (Conv2D)              (None, 22, 50, 25)   2275        add_3[0][0]                      \n",
      "__________________________________________________________________________________________________\n",
      "conv2d_18 (Conv2D)              (None, 22, 50, 25)   1900        conv2d_17[0][0]                  \n",
      "__________________________________________________________________________________________________\n",
      "conv2d_20 (Conv2D)              (None, 22, 50, 25)   1900        conv2d_19[0][0]                  \n",
      "__________________________________________________________________________________________________\n",
      "add_4 (Add)                     (None, 22, 50, 25)   0           conv2d_18[0][0]                  \n",
      "                                                                 conv2d_20[0][0]                  \n",
      "__________________________________________________________________________________________________\n",
      "conv2d_21 (Conv2D)              (None, 22, 50, 25)   1900        add_4[0][0]                      \n",
      "__________________________________________________________________________________________________\n",
      "batch_normalization_8 (BatchNor (None, 22, 50, 25)   100         conv2d_21[0][0]                  \n",
      "__________________________________________________________________________________________________\n",
      "leaky_re_lu_8 (LeakyReLU)       (None, 22, 50, 25)   0           batch_normalization_8[0][0]      \n",
      "__________________________________________________________________________________________________\n",
      "conv2d_22 (Conv2D)              (None, 22, 50, 25)   1900        leaky_re_lu_8[0][0]              \n",
      "__________________________________________________________________________________________________\n",
      "add_5 (Add)                     (None, 22, 50, 25)   0           conv2d_22[0][0]                  \n",
      "                                                                 add_4[0][0]                      \n",
      "__________________________________________________________________________________________________\n",
      "conv2d_transpose_1 (Conv2DTrans (None, 45, 100, 20)  3020        add_5[0][0]                      \n",
      "__________________________________________________________________________________________________\n",
      "batch_normalization_9 (BatchNor (None, 45, 100, 20)  80          conv2d_transpose_1[0][0]         \n",
      "__________________________________________________________________________________________________\n",
      "leaky_re_lu_9 (LeakyReLU)       (None, 45, 100, 20)  0           batch_normalization_9[0][0]      \n",
      "__________________________________________________________________________________________________\n",
      "add_6 (Add)                     (None, 45, 100, 20)  0           leaky_re_lu_9[0][0]              \n",
      "                                                                 max_pooling2d_3[0][0]            \n",
      "__________________________________________________________________________________________________\n",
      "conv2d_23 (Conv2D)              (None, 45, 100, 25)  1525        add_6[0][0]                      \n",
      "__________________________________________________________________________________________________\n",
      "conv2d_25 (Conv2D)              (None, 45, 100, 25)  1525        add_6[0][0]                      \n",
      "__________________________________________________________________________________________________\n",
      "conv2d_24 (Conv2D)              (None, 45, 100, 25)  1900        conv2d_23[0][0]                  \n",
      "__________________________________________________________________________________________________\n",
      "conv2d_26 (Conv2D)              (None, 45, 100, 25)  1900        conv2d_25[0][0]                  \n",
      "__________________________________________________________________________________________________\n",
      "add_7 (Add)                     (None, 45, 100, 25)  0           conv2d_24[0][0]                  \n",
      "                                                                 conv2d_26[0][0]                  \n",
      "__________________________________________________________________________________________________\n",
      "conv2d_27 (Conv2D)              (None, 45, 100, 25)  1900        add_7[0][0]                      \n",
      "__________________________________________________________________________________________________\n",
      "batch_normalization_10 (BatchNo (None, 45, 100, 25)  100         conv2d_27[0][0]                  \n",
      "__________________________________________________________________________________________________\n",
      "leaky_re_lu_10 (LeakyReLU)      (None, 45, 100, 25)  0           batch_normalization_10[0][0]     \n",
      "__________________________________________________________________________________________________\n",
      "conv2d_28 (Conv2D)              (None, 45, 100, 25)  1900        leaky_re_lu_10[0][0]             \n",
      "__________________________________________________________________________________________________\n",
      "add_8 (Add)                     (None, 45, 100, 25)  0           conv2d_28[0][0]                  \n",
      "                                                                 add_7[0][0]                      \n",
      "__________________________________________________________________________________________________\n",
      "conv2d_transpose_2 (Conv2DTrans (None, 90, 200, 15)  1515        add_8[0][0]                      \n",
      "__________________________________________________________________________________________________\n",
      "batch_normalization_11 (BatchNo (None, 90, 200, 15)  60          conv2d_transpose_2[0][0]         \n",
      "__________________________________________________________________________________________________\n",
      "leaky_re_lu_11 (LeakyReLU)      (None, 90, 200, 15)  0           batch_normalization_11[0][0]     \n",
      "__________________________________________________________________________________________________\n",
      "add_9 (Add)                     (None, 90, 200, 15)  0           leaky_re_lu_11[0][0]             \n",
      "                                                                 max_pooling2d_2[0][0]            \n",
      "__________________________________________________________________________________________________\n",
      "conv2d_29 (Conv2D)              (None, 90, 200, 20)  920         add_9[0][0]                      \n",
      "__________________________________________________________________________________________________\n",
      "conv2d_31 (Conv2D)              (None, 90, 200, 20)  920         add_9[0][0]                      \n",
      "__________________________________________________________________________________________________\n",
      "conv2d_30 (Conv2D)              (None, 90, 200, 20)  1220        conv2d_29[0][0]                  \n",
      "__________________________________________________________________________________________________\n",
      "conv2d_32 (Conv2D)              (None, 90, 200, 20)  1220        conv2d_31[0][0]                  \n",
      "__________________________________________________________________________________________________\n",
      "add_10 (Add)                    (None, 90, 200, 20)  0           conv2d_30[0][0]                  \n",
      "                                                                 conv2d_32[0][0]                  \n",
      "__________________________________________________________________________________________________\n",
      "conv2d_33 (Conv2D)              (None, 90, 200, 20)  1220        add_10[0][0]                     \n",
      "__________________________________________________________________________________________________\n",
      "batch_normalization_12 (BatchNo (None, 90, 200, 20)  80          conv2d_33[0][0]                  \n",
      "__________________________________________________________________________________________________\n",
      "leaky_re_lu_12 (LeakyReLU)      (None, 90, 200, 20)  0           batch_normalization_12[0][0]     \n",
      "__________________________________________________________________________________________________\n",
      "conv2d_34 (Conv2D)              (None, 90, 200, 20)  1220        leaky_re_lu_12[0][0]             \n",
      "__________________________________________________________________________________________________\n",
      "add_11 (Add)                    (None, 90, 200, 20)  0           conv2d_34[0][0]                  \n",
      "                                                                 add_10[0][0]                     \n",
      "__________________________________________________________________________________________________\n",
      "conv2d_transpose_3 (Conv2DTrans (None, 180, 400, 10) 810         add_11[0][0]                     \n",
      "__________________________________________________________________________________________________\n",
      "batch_normalization_13 (BatchNo (None, 180, 400, 10) 40          conv2d_transpose_3[0][0]         \n",
      "__________________________________________________________________________________________________\n",
      "leaky_re_lu_13 (LeakyReLU)      (None, 180, 400, 10) 0           batch_normalization_13[0][0]     \n",
      "__________________________________________________________________________________________________\n",
      "add_12 (Add)                    (None, 180, 400, 10) 0           leaky_re_lu_13[0][0]             \n",
      "                                                                 max_pooling2d_1[0][0]            \n",
      "__________________________________________________________________________________________________\n",
      "conv2d_35 (Conv2D)              (None, 180, 400, 15) 465         add_12[0][0]                     \n",
      "__________________________________________________________________________________________________\n",
      "conv2d_37 (Conv2D)              (None, 180, 400, 15) 465         add_12[0][0]                     \n",
      "__________________________________________________________________________________________________\n",
      "conv2d_36 (Conv2D)              (None, 180, 400, 15) 690         conv2d_35[0][0]                  \n",
      "__________________________________________________________________________________________________\n",
      "conv2d_38 (Conv2D)              (None, 180, 400, 15) 690         conv2d_37[0][0]                  \n",
      "__________________________________________________________________________________________________\n",
      "add_13 (Add)                    (None, 180, 400, 15) 0           conv2d_36[0][0]                  \n",
      "                                                                 conv2d_38[0][0]                  \n",
      "__________________________________________________________________________________________________\n",
      "conv2d_39 (Conv2D)              (None, 180, 400, 15) 690         add_13[0][0]                     \n",
      "__________________________________________________________________________________________________\n",
      "batch_normalization_14 (BatchNo (None, 180, 400, 15) 60          conv2d_39[0][0]                  \n",
      "__________________________________________________________________________________________________\n",
      "leaky_re_lu_14 (LeakyReLU)      (None, 180, 400, 15) 0           batch_normalization_14[0][0]     \n",
      "__________________________________________________________________________________________________\n",
      "conv2d_40 (Conv2D)              (None, 180, 400, 15) 690         leaky_re_lu_14[0][0]             \n",
      "__________________________________________________________________________________________________\n",
      "add_14 (Add)                    (None, 180, 400, 15) 0           conv2d_40[0][0]                  \n",
      "                                                                 add_13[0][0]                     \n",
      "__________________________________________________________________________________________________\n",
      "conv2d_transpose_4 (Conv2DTrans (None, 360, 800, 3)  183         add_14[0][0]                     \n",
      "__________________________________________________________________________________________________\n",
      "batch_normalization_15 (BatchNo (None, 360, 800, 3)  12          conv2d_transpose_4[0][0]         \n",
      "__________________________________________________________________________________________________\n",
      "leaky_re_lu_15 (LeakyReLU)      (None, 360, 800, 3)  0           batch_normalization_15[0][0]     \n",
      "__________________________________________________________________________________________________\n",
      "conv2d_41 (Conv2D)              (None, 360, 800, 3)  30          leaky_re_lu_15[0][0]             \n",
      "__________________________________________________________________________________________________\n",
      "conv2d_43 (Conv2D)              (None, 360, 800, 3)  30          leaky_re_lu_15[0][0]             \n",
      "__________________________________________________________________________________________________\n",
      "conv2d_42 (Conv2D)              (None, 360, 800, 3)  30          conv2d_41[0][0]                  \n",
      "__________________________________________________________________________________________________\n",
      "conv2d_44 (Conv2D)              (None, 360, 800, 3)  30          conv2d_43[0][0]                  \n",
      "__________________________________________________________________________________________________\n",
      "add_15 (Add)                    (None, 360, 800, 3)  0           conv2d_42[0][0]                  \n",
      "                                                                 conv2d_44[0][0]                  \n",
      "__________________________________________________________________________________________________\n",
      "conv2d_45 (Conv2D)              (None, 360, 800, 3)  30          add_15[0][0]                     \n",
      "__________________________________________________________________________________________________\n",
      "batch_normalization_16 (BatchNo (None, 360, 800, 3)  12          conv2d_45[0][0]                  \n",
      "__________________________________________________________________________________________________\n",
      "leaky_re_lu_16 (LeakyReLU)      (None, 360, 800, 3)  0           batch_normalization_16[0][0]     \n",
      "__________________________________________________________________________________________________\n",
      "conv2d_46 (Conv2D)              (None, 360, 800, 3)  30          leaky_re_lu_16[0][0]             \n",
      "__________________________________________________________________________________________________\n",
      "add_16 (Add)                    (None, 360, 800, 3)  0           conv2d_46[0][0]                  \n",
      "                                                                 add_15[0][0]                     \n",
      "==================================================================================================\n",
      "Total params: 110,815\n",
      "Trainable params: 110,223\n",
      "Non-trainable params: 592\n",
      "__________________________________________________________________________________________________\n"
     ]
    }
   ],
   "source": [
    "from keras.layers import *\n",
    "\n",
    "def GCN(c, k, ip):\n",
    "    G_L1 = Conv2D(c, (k,1), padding='same')(ip)\n",
    "    G_L2 = Conv2D(c, (1,k), padding='same')(G_L1)\n",
    "    G_R1 = Conv2D(c, (1,k), padding='same')(ip)\n",
    "    #print(G_R1.shape)\n",
    "    G_R2 = Conv2D(c, (k,1), padding='same')(G_R1)\n",
    "    #print(G_R1.shape)\n",
    "    return Add()([G_L2, G_R2])\n",
    "\n",
    "\n",
    "def BR(c, k, ip):\n",
    "    B_L1 = Conv2D(c, (k,1), padding='same')(ip)\n",
    "    B_L2 = BatchNormalization()(B_L1)\n",
    "    B_L2 = LeakyReLU(alpha=0.15)(B_L2)\n",
    "    B_L3 = Conv2D(c, (k,1), padding='same')(B_L2)\n",
    "    return Add()([B_L3, ip])\n",
    "\n",
    "def Conv_block(inp, f1, f2):\n",
    "    x = Conv2D(f1, (3,3), padding = 'same')(inp)\n",
    "    x = BatchNormalization()(x)\n",
    "    x = LeakyReLU(alpha=0.3)(x)\n",
    "    x = Conv2D(f2, (3,3), padding = 'same', activation= 'relu')(x)\n",
    "    x = MaxPooling2D(pool_size=(2,2))(x)\n",
    "    return x\n",
    "\n",
    "\n",
    "\n",
    "#Input\n",
    "ip = Input(shape=(360, 800, 3))\n",
    "\n",
    "#Conv Block1\n",
    "x1 = Conv_block(ip, 4, 10)\n",
    "#print(x1)\n",
    "\n",
    "#Conv Layer2\n",
    "x2 = Conv_block(x1, 8, 15)\n",
    "#print(x2)\n",
    "\n",
    "#Conv Layer3\n",
    "x3 = Conv_block(x2, 16, 20)\n",
    "#print(x3)\n",
    "\n",
    "\n",
    "#Conv Layer4\n",
    "x4 = Conv_block(x3, 32, 30)\n",
    "#print(x4)\n",
    "\n",
    "#Conv Layer5\n",
    "x5 = Conv2D(40, (3,3), padding = 'same')(x4)\n",
    "x5 = BatchNormalization()(x5)\n",
    "x5 = LeakyReLU(alpha=0.3)(x5)\n",
    "x5 = Conv2D(50, (3,3), padding = 'same', activation= 'relu')(x5)\n",
    "\n",
    "#print(x5)\n",
    "x5 = GCN(30, 3, x5)\n",
    "x5 = BR(30, 3, x5)\n",
    "\n",
    "\n",
    "#Deconv5\n",
    "#x5 = Deconvolution2D(30, 3, 3, output_shape= (24, 50,30), activation='relu')(x5)\n",
    "#x5 = Conv2DTranspose(30, 3, strides=(2, 2), padding='valid')(x5)\n",
    "x5 = BatchNormalization()(x5)\n",
    "x5 = LeakyReLU(alpha=0.3)(x5)\n",
    "#print(x5)\n",
    "\n",
    "#Add 4 and 5\n",
    "x5 = Add()([x5, x4])\n",
    "x5 = GCN(25, 3, x5)\n",
    "x5 = BR(25, 3, x5)\n",
    "\n",
    "#print(x5)\n",
    "#Deconv4\n",
    "x5 = Conv2DTranspose(20, (3,2), strides=(2, 2), padding='valid')(x5)\n",
    "x5 = BatchNormalization()(x5)\n",
    "x5 = LeakyReLU(alpha=0.3)(x5)\n",
    "#print(x5)\n",
    "\n",
    "#Add 3 and 4\n",
    "x5 = Add()([x5, x3])\n",
    "x5 = GCN(25, 3, x5)\n",
    "x5 = BR(25, 3, x5)\n",
    "\n",
    "\n",
    "#Deconv3\n",
    "#x5 = Deconvolution2D(15, 3, 3, output_shape= x2.output_shape, activation='relu')(x5)\n",
    "x5 = Conv2DTranspose(15, (2,2), strides=(2, 2), padding='valid')(x5)\n",
    "x5 = BatchNormalization()(x5)\n",
    "x5 = LeakyReLU(alpha=0.3)(x5)\n",
    "\n",
    "#Add 3 and 4\n",
    "x5 = Add()([x5, x2])\n",
    "x5 = GCN(20, 3, x5)\n",
    "x5 = BR(20, 3, x5)\n",
    "\n",
    "\n",
    "#Deconv2\n",
    "#x5 = Deconvolution2D(10, 3, 3, output_shape= x1.output_shape, activation='relu')(x5)\n",
    "x5 = Conv2DTranspose(10, (2,2), strides=(2, 2), padding='valid')(x5)\n",
    "x5 = BatchNormalization()(x5)\n",
    "x5 = LeakyReLU(alpha=0.3)(x5)\n",
    "\n",
    "#Add 3 and 4\n",
    "x5 = Add()([x5, x1])\n",
    "x5 = GCN(15, 3, x5)\n",
    "x5 = BR(15, 3, x5)\n",
    "\n",
    "\n",
    "#Deconv1\n",
    "#x5 = Deconvolution2D(3, 3, 3, output_shape= (-1, 3, 360,800), activation='relu')(x5)\n",
    "x5 = Conv2DTranspose(3, (2,2), strides=(2, 2), padding='valid')(x5)\n",
    "x5 = BatchNormalization()(x5)\n",
    "x5 = LeakyReLU(alpha=0.3)(x5)\n",
    "x5 = GCN(3, 3, x5)\n",
    "x5 = BR(3, 3, x5)\n",
    "\n",
    "\n",
    "model_new = Model(ip, x5)\n",
    "model_new.summary()\n",
    " "
   ]
  },
  {
   "cell_type": "code",
   "execution_count": 20,
   "metadata": {},
   "outputs": [],
   "source": [
    "from keras.metrics import categorical_accuracy\n",
    "from keras import optimizers"
   ]
  },
  {
   "cell_type": "code",
   "execution_count": 21,
   "metadata": {},
   "outputs": [],
   "source": [
    "Ndm = optimizers.Nadam(lr=0.002, beta_1=0.9, beta_2=0.999, epsilon=None, schedule_decay=0.004)"
   ]
  },
  {
   "cell_type": "code",
   "execution_count": 22,
   "metadata": {},
   "outputs": [],
   "source": [
    "model_new.compile(optimizer='Adam', loss = 'mse', metrics = [categorical_accuracy])"
   ]
  },
  {
   "cell_type": "code",
   "execution_count": 25,
   "metadata": {},
   "outputs": [
    {
     "name": "stdout",
     "output_type": "stream",
     "text": [
      "Train on 2400 samples, validate on 601 samples\n",
      "Epoch 1/40\n",
      "2400/2400 [==============================] - 113s 47ms/step - loss: 1466.9081 - categorical_accuracy: 0.3355 - val_loss: 1371.5031 - val_categorical_accuracy: 0.2635\n",
      "Epoch 2/40\n",
      "2400/2400 [==============================] - 110s 46ms/step - loss: 857.3163 - categorical_accuracy: 0.2763 - val_loss: 700.2026 - val_categorical_accuracy: 0.2761\n",
      "Epoch 3/40\n",
      "2400/2400 [==============================] - 111s 46ms/step - loss: 310.7305 - categorical_accuracy: 0.2778 - val_loss: 614.3638 - val_categorical_accuracy: 0.2738\n",
      "Epoch 4/40\n",
      "2400/2400 [==============================] - 111s 46ms/step - loss: 207.0330 - categorical_accuracy: 0.2776 - val_loss: 331.0899 - val_categorical_accuracy: 0.2737\n",
      "Epoch 5/40\n",
      "2400/2400 [==============================] - 111s 46ms/step - loss: 167.3755 - categorical_accuracy: 0.2783 - val_loss: 140.9769 - val_categorical_accuracy: 0.2799\n",
      "Epoch 6/40\n",
      "2400/2400 [==============================] - 111s 46ms/step - loss: 118.9008 - categorical_accuracy: 0.2826 - val_loss: 143.0817 - val_categorical_accuracy: 0.2823\n",
      "Epoch 7/40\n",
      "2400/2400 [==============================] - 111s 46ms/step - loss: 103.2389 - categorical_accuracy: 0.3137 - val_loss: 114.9219 - val_categorical_accuracy: 0.3183\n",
      "Epoch 8/40\n",
      "2400/2400 [==============================] - 112s 47ms/step - loss: 98.3746 - categorical_accuracy: 0.3542 - val_loss: 159.4292 - val_categorical_accuracy: 0.3968\n",
      "Epoch 9/40\n",
      "2400/2400 [==============================] - 111s 46ms/step - loss: 98.6325 - categorical_accuracy: 0.3539 - val_loss: 95.1512 - val_categorical_accuracy: 0.4521\n",
      "Epoch 10/40\n",
      "2400/2400 [==============================] - 111s 46ms/step - loss: 90.4007 - categorical_accuracy: 0.3692 - val_loss: 95.4923 - val_categorical_accuracy: 0.5002\n",
      "Epoch 11/40\n",
      "2400/2400 [==============================] - 112s 46ms/step - loss: 88.4520 - categorical_accuracy: 0.3664 - val_loss: 129.4189 - val_categorical_accuracy: 0.3171\n",
      "Epoch 12/40\n",
      "2400/2400 [==============================] - 111s 46ms/step - loss: 84.8976 - categorical_accuracy: 0.3688 - val_loss: 81.6235 - val_categorical_accuracy: 0.4577\n",
      "Epoch 13/40\n",
      "2400/2400 [==============================] - 111s 46ms/step - loss: 81.6334 - categorical_accuracy: 0.3659 - val_loss: 87.1073 - val_categorical_accuracy: 0.4092\n",
      "Epoch 14/40\n",
      "2400/2400 [==============================] - 111s 46ms/step - loss: 78.5220 - categorical_accuracy: 0.3075 - val_loss: 77.5541 - val_categorical_accuracy: 0.5217\n",
      "Epoch 15/40\n",
      "2400/2400 [==============================] - 111s 46ms/step - loss: 77.1793 - categorical_accuracy: 0.3228 - val_loss: 109.1351 - val_categorical_accuracy: 0.3940\n",
      "Epoch 16/40\n",
      "2400/2400 [==============================] - 111s 46ms/step - loss: 73.3514 - categorical_accuracy: 0.3072 - val_loss: 75.7151 - val_categorical_accuracy: 0.3539\n",
      "Epoch 17/40\n",
      "2400/2400 [==============================] - 111s 46ms/step - loss: 69.4848 - categorical_accuracy: 0.3056 - val_loss: 79.3092 - val_categorical_accuracy: 0.3045\n",
      "Epoch 18/40\n",
      "2400/2400 [==============================] - 111s 46ms/step - loss: 62.6737 - categorical_accuracy: 0.3799 - val_loss: 61.5610 - val_categorical_accuracy: 0.7929\n",
      "Epoch 19/40\n",
      "2400/2400 [==============================] - 111s 46ms/step - loss: 60.3285 - categorical_accuracy: 0.5690 - val_loss: 93.1386 - val_categorical_accuracy: 0.5542\n",
      "Epoch 20/40\n",
      "2400/2400 [==============================] - 111s 46ms/step - loss: 49.0133 - categorical_accuracy: 0.5918 - val_loss: 47.1989 - val_categorical_accuracy: 0.5923\n",
      "Epoch 21/40\n",
      "2400/2400 [==============================] - 111s 46ms/step - loss: 42.8008 - categorical_accuracy: 0.5541 - val_loss: 47.3812 - val_categorical_accuracy: 0.5964\n",
      "Epoch 22/40\n",
      "2400/2400 [==============================] - 111s 46ms/step - loss: 40.9915 - categorical_accuracy: 0.5380 - val_loss: 45.3366 - val_categorical_accuracy: 0.6690\n",
      "Epoch 23/40\n",
      "2400/2400 [==============================] - 111s 46ms/step - loss: 46.0462 - categorical_accuracy: 0.5495 - val_loss: 63.6455 - val_categorical_accuracy: 0.6247\n",
      "Epoch 24/40\n",
      "2400/2400 [==============================] - 111s 46ms/step - loss: 43.6877 - categorical_accuracy: 0.5318 - val_loss: 45.1112 - val_categorical_accuracy: 0.6775\n",
      "Epoch 25/40\n",
      "2400/2400 [==============================] - 111s 46ms/step - loss: 40.0513 - categorical_accuracy: 0.5636 - val_loss: 42.1683 - val_categorical_accuracy: 0.8268\n",
      "Epoch 26/40\n",
      "2400/2400 [==============================] - 111s 46ms/step - loss: 37.9442 - categorical_accuracy: 0.5490 - val_loss: 42.0928 - val_categorical_accuracy: 0.8318\n",
      "Epoch 27/40\n",
      "2400/2400 [==============================] - 110s 46ms/step - loss: 36.6737 - categorical_accuracy: 0.5337 - val_loss: 39.7019 - val_categorical_accuracy: 0.8341\n",
      "Epoch 28/40\n",
      "2400/2400 [==============================] - 111s 46ms/step - loss: 36.8646 - categorical_accuracy: 0.5541 - val_loss: 39.4454 - val_categorical_accuracy: 0.7148\n",
      "Epoch 29/40\n",
      "2400/2400 [==============================] - 112s 47ms/step - loss: 52.2207 - categorical_accuracy: 0.5468 - val_loss: 50.8460 - val_categorical_accuracy: 0.6546\n",
      "Epoch 30/40\n",
      "2400/2400 [==============================] - 111s 46ms/step - loss: 38.0173 - categorical_accuracy: 0.5561 - val_loss: 39.5761 - val_categorical_accuracy: 0.8996\n",
      "Epoch 31/40\n",
      "2400/2400 [==============================] - 111s 46ms/step - loss: 35.4889 - categorical_accuracy: 0.5634 - val_loss: 39.7551 - val_categorical_accuracy: 0.7525\n",
      "Epoch 32/40\n",
      "2400/2400 [==============================] - 111s 46ms/step - loss: 34.4954 - categorical_accuracy: 0.5435 - val_loss: 38.4077 - val_categorical_accuracy: 0.8918\n",
      "Epoch 33/40\n",
      "2400/2400 [==============================] - 111s 46ms/step - loss: 35.6152 - categorical_accuracy: 0.5416 - val_loss: 41.3586 - val_categorical_accuracy: 0.8634\n",
      "Epoch 34/40\n",
      "2400/2400 [==============================] - 111s 46ms/step - loss: 33.9548 - categorical_accuracy: 0.5521 - val_loss: 36.8008 - val_categorical_accuracy: 0.7371\n",
      "Epoch 35/40\n",
      "2400/2400 [==============================] - 110s 46ms/step - loss: 32.6072 - categorical_accuracy: 0.5571 - val_loss: 38.8048 - val_categorical_accuracy: 0.6717\n",
      "Epoch 36/40\n",
      "2400/2400 [==============================] - 111s 46ms/step - loss: 32.0058 - categorical_accuracy: 0.5377 - val_loss: 37.1303 - val_categorical_accuracy: 0.5958\n",
      "Epoch 37/40\n",
      "2400/2400 [==============================] - 111s 46ms/step - loss: 31.6456 - categorical_accuracy: 0.5374 - val_loss: 37.1659 - val_categorical_accuracy: 0.8145\n",
      "Epoch 38/40\n",
      "2400/2400 [==============================] - 110s 46ms/step - loss: 31.3985 - categorical_accuracy: 0.5333 - val_loss: 35.2291 - val_categorical_accuracy: 0.8284\n",
      "Epoch 39/40\n",
      "2400/2400 [==============================] - 111s 46ms/step - loss: 34.2445 - categorical_accuracy: 0.5377 - val_loss: 79.3829 - val_categorical_accuracy: 0.7131\n",
      "Epoch 40/40\n",
      "2400/2400 [==============================] - 111s 46ms/step - loss: 43.7478 - categorical_accuracy: 0.5206 - val_loss: 44.3716 - val_categorical_accuracy: 0.4373\n"
     ]
    }
   ],
   "source": [
    "history = model_new.fit(RGB, Segmented, epochs=40, batch_size=16, validation_split=0.2)"
   ]
  },
  {
   "cell_type": "code",
   "execution_count": 26,
   "metadata": {},
   "outputs": [],
   "source": [
    "model_new.save('Lane_MOdel_U_GCN.h5')"
   ]
  },
  {
   "cell_type": "code",
   "execution_count": 28,
   "metadata": {},
   "outputs": [],
   "source": [
    "model_yaml = model_new.to_yaml()\n",
    "with open(\"Lane_MOdel_U_GCN_OnlyModel.yaml\", \"w\") as yaml_file:\n",
    "    yaml_file.write(model_yaml)\n"
   ]
  },
  {
   "cell_type": "code",
   "execution_count": 27,
   "metadata": {},
   "outputs": [],
   "source": [
    "model_new.save_weights('Lane_MOdel_U_GCN_OnlyWeights.h5')"
   ]
  },
  {
   "cell_type": "code",
   "execution_count": null,
   "metadata": {},
   "outputs": [],
   "source": [
    "y_5 = model_new.predict(RGB[2:5])"
   ]
  },
  {
   "cell_type": "code",
   "execution_count": null,
   "metadata": {},
   "outputs": [],
   "source": [
    "import matplotlib.pyplot as plt\n",
    "plt.imshow(y_5[2])"
   ]
  },
  {
   "cell_type": "code",
   "execution_count": null,
   "metadata": {},
   "outputs": [],
   "source": [
    "cv2.imwrite('test.png',y_5[2])"
   ]
  },
  {
   "cell_type": "code",
   "execution_count": null,
   "metadata": {},
   "outputs": [],
   "source": [
    "added_image = cv2.addWeighted(RGB[2],1,y_5[0],1,0)"
   ]
  },
  {
   "cell_type": "code",
   "execution_count": null,
   "metadata": {},
   "outputs": [],
   "source": [
    "from keras.applications.resnet50 import preprocess_input\n",
    "image2 = preprocess_input(image.astype(np.float32),mode='tf')\n"
   ]
  },
  {
   "cell_type": "code",
   "execution_count": null,
   "metadata": {},
   "outputs": [],
   "source": [
    "height, width = image.shape[:2]\n"
   ]
  },
  {
   "cell_type": "code",
   "execution_count": null,
   "metadata": {},
   "outputs": [],
   "source": [
    "pred = np.argmax(RGB[634])\n"
   ]
  },
  {
   "cell_type": "code",
   "execution_count": null,
   "metadata": {},
   "outputs": [],
   "source": [
    "road = np.dstack((np.zeros_like(pred),pred==1,np.zeros_like(pred)))\n"
   ]
  },
  {
   "cell_type": "code",
   "execution_count": null,
   "metadata": {},
   "outputs": [],
   "source": [
    "cars = np.dstack((np.zeros_like(pred),np.zeros_like(pred),pred==2))\n",
    "    "
   ]
  },
  {
   "cell_type": "code",
   "execution_count": null,
   "metadata": {},
   "outputs": [],
   "source": [
    "cars0 = np.zeros(shape=(height,width,3)).astype('uint8')\n",
    "    "
   ]
  },
  {
   "cell_type": "code",
   "execution_count": null,
   "metadata": {},
   "outputs": [],
   "source": [
    "cars0[208:-72,:,:] = np.round(cars)\n",
    "    "
   ]
  },
  {
   "cell_type": "code",
   "execution_count": null,
   "metadata": {},
   "outputs": [],
   "source": [
    "road0 = np.zeros(shape=(height,width,3)).astype('uint8')\n",
    "    "
   ]
  },
  {
   "cell_type": "code",
   "execution_count": null,
   "metadata": {},
   "outputs": [],
   "source": [
    "road0[208:-72,:,:] = np.round(road)\n",
    "    "
   ]
  },
  {
   "cell_type": "code",
   "execution_count": null,
   "metadata": {},
   "outputs": [],
   "source": [
    "image = image.astype('uint8')\n",
    "    "
   ]
  },
  {
   "cell_type": "code",
   "execution_count": null,
   "metadata": {},
   "outputs": [],
   "source": [
    "image = cv2.addWeighted(image, 1.0, np.round(road0).astype('uint8')*255, 0.5, 0)\n",
    "    "
   ]
  },
  {
   "cell_type": "code",
   "execution_count": null,
   "metadata": {},
   "outputs": [],
   "source": [
    "image = cv2.addWeighted(image, 1.0, np.round(cars0).astype('uint8')*255, 0.7, 0)"
   ]
  },
  {
   "cell_type": "code",
   "execution_count": null,
   "metadata": {},
   "outputs": [],
   "source": [
    "plt.imshow(image)"
   ]
  },
  {
   "cell_type": "code",
   "execution_count": null,
   "metadata": {},
   "outputs": [],
   "source": [
    "blanks = np.zeros_like(Segmented[0]).astype(np.uint8)\n",
    "lane_drawn = np.dstack((blanks, RGB[0], blanks))"
   ]
  },
  {
   "cell_type": "code",
   "execution_count": null,
   "metadata": {},
   "outputs": [],
   "source": [
    "lane_drawn.shape\n"
   ]
  },
  {
   "cell_type": "code",
   "execution_count": null,
   "metadata": {},
   "outputs": [],
   "source": [
    "i = 3\n",
    "image = RGB[i]\n",
    "Simage =Segmented[i]\n",
    "added_image = cv2.addWeighted(image,1,Simage,1,0)"
   ]
  },
  {
   "cell_type": "code",
   "execution_count": null,
   "metadata": {},
   "outputs": [],
   "source": [
    "plt.imshow(added_image)"
   ]
  },
  {
   "cell_type": "code",
   "execution_count": null,
   "metadata": {},
   "outputs": [],
   "source": [
    "\n",
    "ret, thresh = cv2.threshold(imgray.astype(np.uint8), 20, 255, 0)\n",
    "im2, contours, hierarchy = cv2.findContours(thresh, cv2.RETR_EXTERNAL, cv2.CHAIN_APPROX_NONE)\n",
    "\n",
    "if len(contours) != 0:\n",
    "    # draw in blue the contours that were founded\n",
    "    cv2.drawContours(lane_drawn, contours, -1, 255, 3)\n",
    "\n",
    "        # find the biggest area\n",
    "    c = max(contours, key=cv2.contourArea)\n",
    "\n",
    "    x, y, w, h = cv2.boundingRect(c)\n",
    "        # draw the book contour (in green)\n",
    "    cv2.rectangle(lane_drawn, (x, y), (x + w, y + h), (0, 255, 0), 2)\n",
    "lane_image = imresize(lane_drawn, (360, 800, 3))\n",
    "    #cv2.polylines(lane_image,average_position_left_lower,False,(255,0,0))\n",
    "\n",
    "average_position_left_lower = (0, 0)\n",
    "average_position_left_upper =(0, 0)\n",
    "average_position_right_lower =(0, 0)\n",
    "average_position_right_upper =(0, 0)\n",
    "   #print(\"R\", lane_image[:, :, 0])\n",
    "\n",
    "\n",
    "           #cv2.imshow(\"laneImage\",lane_image)\n",
    "           #print(\"G\",lane_image[x, y, 1])\n",
    "           #print(\"B\",lane_image[x, y, 2])\n",
    "\n",
    "           #print(x,y)\n",
    "           #cv2.waitKey(1)\n",
    "\n",
    "\n",
    "\n",
    "    # Merge the lane drawing onto the original image\n",
    "cv2.imshow(\"laneImage\",lane_image)\n",
    "result = cv2.addWeighted(image, 1, lane_image, 1, 0)\n",
    "cv2.imshow(\"Live\",result)"
   ]
  },
  {
   "cell_type": "code",
   "execution_count": null,
   "metadata": {},
   "outputs": [],
   "source": [
    "from keras.layers import deconvolution2D"
   ]
  },
  {
   "cell_type": "code",
   "execution_count": null,
   "metadata": {},
   "outputs": [],
   "source": []
  }
 ],
 "metadata": {
  "kernelspec": {
   "display_name": "Python 3",
   "language": "python",
   "name": "python3"
  },
  "language_info": {
   "codemirror_mode": {
    "name": "ipython",
    "version": 3
   },
   "file_extension": ".py",
   "mimetype": "text/x-python",
   "name": "python",
   "nbconvert_exporter": "python",
   "pygments_lexer": "ipython3",
   "version": "3.6.6"
  }
 },
 "nbformat": 4,
 "nbformat_minor": 2
}
